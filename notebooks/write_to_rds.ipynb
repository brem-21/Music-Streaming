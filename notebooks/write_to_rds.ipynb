{
 "cells": [
  {
   "cell_type": "code",
   "execution_count": 1,
   "metadata": {},
   "outputs": [],
   "source": [
    "#importing libraries\n",
    "import pandas as pd"
   ]
  },
  {
   "cell_type": "code",
   "execution_count": 2,
   "metadata": {},
   "outputs": [
    {
     "name": "stdout",
     "output_type": "stream",
     "text": [
      "Data loaded successfully\n",
      "   id                track_id                 artists  \\\n",
      "0   0  5SuOikwiRyPMVoIQDJUgSV             Gen Hoshino   \n",
      "1   1  4qPNDBW1i3p13qLCt0Ki3A            Ben Woodward   \n",
      "2   2  1iJBSr7s7jYXzM8EGcbK5b  Ingrid Michaelson;ZAYN   \n",
      "3   3  6lfxq3CG4xtTiEg7opyCyx            Kina Grannis   \n",
      "4   4  5vjLSffimiIP26QG5WcN2K        Chord Overstreet   \n",
      "\n",
      "                                          album_name  \\\n",
      "0                                             Comedy   \n",
      "1                                   Ghost (Acoustic)   \n",
      "2                                     To Begin Again   \n",
      "3  Crazy Rich Asians (Original Motion Picture Sou...   \n",
      "4                                            Hold On   \n",
      "\n",
      "                   track_name  popularity  duration_ms  explicit  \\\n",
      "0                      Comedy          73       230666     False   \n",
      "1            Ghost - Acoustic          55       149610     False   \n",
      "2              To Begin Again          57       210826     False   \n",
      "3  Can't Help Falling In Love          71       201933     False   \n",
      "4                     Hold On          82       198853     False   \n",
      "\n",
      "   danceability  energy  ...  loudness  mode  speechiness  acousticness  \\\n",
      "0         0.676  0.4610  ...    -6.746     0       0.1430        0.0322   \n",
      "1         0.420  0.1660  ...   -17.235     1       0.0763        0.9240   \n",
      "2         0.438  0.3590  ...    -9.734     1       0.0557        0.2100   \n",
      "3         0.266  0.0596  ...   -18.515     1       0.0363        0.9050   \n",
      "4         0.618  0.4430  ...    -9.681     1       0.0526        0.4690   \n",
      "\n",
      "   instrumentalness  liveness  valence    tempo  time_signature  track_genre  \n",
      "0          0.000001    0.3580    0.715   87.917               4     acoustic  \n",
      "1          0.000006    0.1010    0.267   77.489               4     acoustic  \n",
      "2          0.000000    0.1170    0.120   76.332               4     acoustic  \n",
      "3          0.000071    0.1320    0.143  181.740               3     acoustic  \n",
      "4          0.000000    0.0829    0.167  119.949               4     acoustic  \n",
      "\n",
      "[5 rows x 21 columns]\n"
     ]
    }
   ],
   "source": [
    "# Loading data from source\n",
    "try:\n",
    "    songs = pd.read_csv('data/songs/songs.csv') # reading the csv file\n",
    "except Exception as e:\n",
    "    print(f\"Error Loading data from source: {e}\") #Error message if data is not loaded\n",
    "else:\n",
    "    print(\"Data loaded successfully\")\n",
    "    print(songs.head(5)) # first five rows of the data\n",
    "    "
   ]
  },
  {
   "cell_type": "code",
   "execution_count": 3,
   "metadata": {},
   "outputs": [
    {
     "name": "stdout",
     "output_type": "stream",
     "text": [
      "Data loaded successfully\n",
      "   user_id         user_name  user_age   user_country  created_at\n",
      "0        1      Norma Fisher        65  United States  2024-02-07\n",
      "1        2    Jorge Sullivan        28  United States  2024-11-28\n",
      "2        3   Elizabeth Woods        19  United States  2024-11-16\n",
      "3        4      Susan Wagner        45  United States  2024-06-14\n",
      "4        5  Peter Montgomery        61  United States  2024-07-24\n"
     ]
    }
   ],
   "source": [
    "# Loading data from source\n",
    "try:\n",
    "    users = pd.read_csv('data/users/users.csv') # reading the csv file\n",
    "except Exception as e:\n",
    "    print(f\"Error Loading data from source: {e}\") #Error message if data is not loaded\n",
    "else:\n",
    "    print(\"Data loaded successfully\")\n",
    "    print(users.head(5)) # first five rows of the data\n",
    "    "
   ]
  },
  {
   "cell_type": "code",
   "execution_count": 4,
   "metadata": {},
   "outputs": [
    {
     "name": "stdout",
     "output_type": "stream",
     "text": [
      "CREATE TABLE \"songs\" (\n",
      "\"id\" INTEGER,\n",
      "  \"track_id\" TEXT,\n",
      "  \"artists\" TEXT,\n",
      "  \"album_name\" TEXT,\n",
      "  \"track_name\" TEXT,\n",
      "  \"popularity\" INTEGER,\n",
      "  \"duration_ms\" INTEGER,\n",
      "  \"explicit\" INTEGER,\n",
      "  \"danceability\" REAL,\n",
      "  \"energy\" REAL,\n",
      "  \"key\" INTEGER,\n",
      "  \"loudness\" REAL,\n",
      "  \"mode\" INTEGER,\n",
      "  \"speechiness\" REAL,\n",
      "  \"acousticness\" REAL,\n",
      "  \"instrumentalness\" REAL,\n",
      "  \"liveness\" REAL,\n",
      "  \"valence\" REAL,\n",
      "  \"tempo\" REAL,\n",
      "  \"time_signature\" INTEGER,\n",
      "  \"track_genre\" TEXT\n",
      ")\n"
     ]
    }
   ],
   "source": [
    "print(pd.io.sql.get_schema(songs, name='songs')) # getting the schema of the songs data"
   ]
  },
  {
   "cell_type": "code",
   "execution_count": 5,
   "metadata": {},
   "outputs": [
    {
     "data": {
      "text/plain": [
       "id                  0\n",
       "track_id            0\n",
       "artists             1\n",
       "album_name          1\n",
       "track_name          1\n",
       "popularity          0\n",
       "duration_ms         0\n",
       "explicit            0\n",
       "danceability        0\n",
       "energy              0\n",
       "key                 0\n",
       "loudness            0\n",
       "mode                0\n",
       "speechiness         0\n",
       "acousticness        0\n",
       "instrumentalness    0\n",
       "liveness            0\n",
       "valence             0\n",
       "tempo               0\n",
       "time_signature      0\n",
       "track_genre         0\n",
       "dtype: int64"
      ]
     },
     "execution_count": 5,
     "metadata": {},
     "output_type": "execute_result"
    }
   ],
   "source": [
    "songs.isnull().sum() # checking for missing values in the songs data"
   ]
  },
  {
   "cell_type": "code",
   "execution_count": 6,
   "metadata": {},
   "outputs": [
    {
     "data": {
      "text/plain": [
       "user_id         0\n",
       "user_name       0\n",
       "user_age        0\n",
       "user_country    0\n",
       "created_at      0\n",
       "dtype: int64"
      ]
     },
     "execution_count": 6,
     "metadata": {},
     "output_type": "execute_result"
    }
   ],
   "source": [
    "users.isnull().sum() # checking for missing values in the users data"
   ]
  },
  {
   "cell_type": "code",
   "execution_count": 7,
   "metadata": {},
   "outputs": [
    {
     "data": {
      "text/plain": [
       "31437"
      ]
     },
     "execution_count": 7,
     "metadata": {},
     "output_type": "execute_result"
    }
   ],
   "source": [
    "songs['artists'].nunique() # checking for unique values in the songs data"
   ]
  },
  {
   "cell_type": "code",
   "execution_count": 8,
   "metadata": {},
   "outputs": [
    {
     "data": {
      "text/plain": [
       "46589"
      ]
     },
     "execution_count": 8,
     "metadata": {},
     "output_type": "execute_result"
    }
   ],
   "source": [
    "songs['album_name'].nunique() # checking for unique values in the songs data"
   ]
  },
  {
   "cell_type": "code",
   "execution_count": 9,
   "metadata": {},
   "outputs": [
    {
     "data": {
      "text/plain": [
       "73608"
      ]
     },
     "execution_count": 9,
     "metadata": {},
     "output_type": "execute_result"
    }
   ],
   "source": [
    "songs['track_name'].nunique() # checking for unique values in the songs data"
   ]
  },
  {
   "cell_type": "code",
   "execution_count": 10,
   "metadata": {},
   "outputs": [],
   "source": [
    "songs.fillna({'artists': 'Unknown Artist', 'album_name': 'Unknown Album', 'track_name': 'Unknown Track'}, inplace=True) # filling missing values in the songs data"
   ]
  },
  {
   "cell_type": "code",
   "execution_count": 11,
   "metadata": {},
   "outputs": [
    {
     "data": {
      "text/plain": [
       "id                  0\n",
       "track_id            0\n",
       "artists             0\n",
       "album_name          0\n",
       "track_name          0\n",
       "popularity          0\n",
       "duration_ms         0\n",
       "explicit            0\n",
       "danceability        0\n",
       "energy              0\n",
       "key                 0\n",
       "loudness            0\n",
       "mode                0\n",
       "speechiness         0\n",
       "acousticness        0\n",
       "instrumentalness    0\n",
       "liveness            0\n",
       "valence             0\n",
       "tempo               0\n",
       "time_signature      0\n",
       "track_genre         0\n",
       "dtype: int64"
      ]
     },
     "execution_count": 11,
     "metadata": {},
     "output_type": "execute_result"
    }
   ],
   "source": [
    "songs.isnull().sum() # checking for missing values in the songs data"
   ]
  },
  {
   "cell_type": "code",
   "execution_count": 12,
   "metadata": {},
   "outputs": [
    {
     "name": "stdout",
     "output_type": "stream",
     "text": [
      "Duplicated Values in the Songs data:0\n",
      "Duplicated Values in the Users data:0\n"
     ]
    }
   ],
   "source": [
    "print(f\"Duplicated Values in the Songs data:{songs.duplicated().sum()}\") # checking for duplicates in the songs data\n",
    "print(f\"Duplicated Values in the Users data:{users.duplicated().sum()}\")# checking for duplicates in the users data"
   ]
  },
  {
   "cell_type": "code",
   "execution_count": 13,
   "metadata": {},
   "outputs": [
    {
     "name": "stdout",
     "output_type": "stream",
     "text": [
      "CREATE TABLE \"users\" (\n",
      "\"user_id\" INTEGER,\n",
      "  \"user_name\" TEXT,\n",
      "  \"user_age\" INTEGER,\n",
      "  \"user_country\" TEXT,\n",
      "  \"created_at\" TEXT\n",
      ")\n"
     ]
    }
   ],
   "source": [
    "print(pd.io.sql.get_schema(users, name='users')) # getting the schema of the users data"
   ]
  },
  {
   "cell_type": "code",
   "execution_count": 14,
   "metadata": {},
   "outputs": [],
   "source": [
    "#importing libraries for creating the connection to RDS\n",
    "from dotenv import load_dotenv\n",
    "import os\n",
    "from sqlalchemy import create_engine\n",
    "\n",
    "load_dotenv() # loading the environment variables\n",
    "\n",
    "DB_HOST = os.getenv(\"DB_HOST\")\n",
    "DB_PORT = int(os.getenv(\"DB_PORT\", 5432))  # Default to 5432 if not set\n",
    "DB_USER = os.getenv(\"DB_USER\")\n",
    "DB_NAME = os.getenv(\"DB_NAME\")\n",
    "DB_PASSWORD = os.getenv(\"DB_PASSWORD\")"
   ]
  },
  {
   "cell_type": "code",
   "execution_count": 15,
   "metadata": {},
   "outputs": [
    {
     "name": "stdout",
     "output_type": "stream",
     "text": [
      "Connection Sucessful\n"
     ]
    }
   ],
   "source": [
    "try:\n",
    "    engine = create_engine(f'postgresql://{DB_USER}:{DB_PASSWORD}@{DB_HOST}:{DB_PORT}/{DB_NAME}') #create the connection\n",
    "    engine.connect # connect to the database\n",
    "except Exception as e:\n",
    "    print(f\"Error while connecting to database: {e}\")\n",
    "else:\n",
    "    print(\"Connection Sucessful\")"
   ]
  },
  {
   "cell_type": "code",
   "execution_count": 16,
   "metadata": {},
   "outputs": [
    {
     "data": {
      "text/html": [
       "<div>\n",
       "<style scoped>\n",
       "    .dataframe tbody tr th:only-of-type {\n",
       "        vertical-align: middle;\n",
       "    }\n",
       "\n",
       "    .dataframe tbody tr th {\n",
       "        vertical-align: top;\n",
       "    }\n",
       "\n",
       "    .dataframe thead th {\n",
       "        text-align: right;\n",
       "    }\n",
       "</style>\n",
       "<table border=\"1\" class=\"dataframe\">\n",
       "  <thead>\n",
       "    <tr style=\"text-align: right;\">\n",
       "      <th></th>\n",
       "      <th>id</th>\n",
       "      <th>track_id</th>\n",
       "      <th>artists</th>\n",
       "      <th>album_name</th>\n",
       "      <th>track_name</th>\n",
       "      <th>popularity</th>\n",
       "      <th>duration_ms</th>\n",
       "      <th>explicit</th>\n",
       "      <th>danceability</th>\n",
       "      <th>energy</th>\n",
       "      <th>...</th>\n",
       "      <th>loudness</th>\n",
       "      <th>mode</th>\n",
       "      <th>speechiness</th>\n",
       "      <th>acousticness</th>\n",
       "      <th>instrumentalness</th>\n",
       "      <th>liveness</th>\n",
       "      <th>valence</th>\n",
       "      <th>tempo</th>\n",
       "      <th>time_signature</th>\n",
       "      <th>track_genre</th>\n",
       "    </tr>\n",
       "  </thead>\n",
       "  <tbody>\n",
       "  </tbody>\n",
       "</table>\n",
       "<p>0 rows × 21 columns</p>\n",
       "</div>"
      ],
      "text/plain": [
       "Empty DataFrame\n",
       "Columns: [id, track_id, artists, album_name, track_name, popularity, duration_ms, explicit, danceability, energy, key, loudness, mode, speechiness, acousticness, instrumentalness, liveness, valence, tempo, time_signature, track_genre]\n",
       "Index: []\n",
       "\n",
       "[0 rows x 21 columns]"
      ]
     },
     "execution_count": 16,
     "metadata": {},
     "output_type": "execute_result"
    }
   ],
   "source": [
    "#Schema of the songs data\n",
    "songs.head(n=0)"
   ]
  },
  {
   "cell_type": "code",
   "execution_count": 17,
   "metadata": {},
   "outputs": [
    {
     "data": {
      "text/html": [
       "<div>\n",
       "<style scoped>\n",
       "    .dataframe tbody tr th:only-of-type {\n",
       "        vertical-align: middle;\n",
       "    }\n",
       "\n",
       "    .dataframe tbody tr th {\n",
       "        vertical-align: top;\n",
       "    }\n",
       "\n",
       "    .dataframe thead th {\n",
       "        text-align: right;\n",
       "    }\n",
       "</style>\n",
       "<table border=\"1\" class=\"dataframe\">\n",
       "  <thead>\n",
       "    <tr style=\"text-align: right;\">\n",
       "      <th></th>\n",
       "      <th>user_id</th>\n",
       "      <th>user_name</th>\n",
       "      <th>user_age</th>\n",
       "      <th>user_country</th>\n",
       "      <th>created_at</th>\n",
       "    </tr>\n",
       "  </thead>\n",
       "  <tbody>\n",
       "  </tbody>\n",
       "</table>\n",
       "</div>"
      ],
      "text/plain": [
       "Empty DataFrame\n",
       "Columns: [user_id, user_name, user_age, user_country, created_at]\n",
       "Index: []"
      ]
     },
     "execution_count": 17,
     "metadata": {},
     "output_type": "execute_result"
    }
   ],
   "source": [
    "#Schema of the users data\n",
    "users.head(n=0)"
   ]
  },
  {
   "cell_type": "code",
   "execution_count": 18,
   "metadata": {},
   "outputs": [
    {
     "name": "stdout",
     "output_type": "stream",
     "text": [
      "Schema loaded successfully\n"
     ]
    }
   ],
   "source": [
    "#sending the songs schema to the database\n",
    "try:\n",
    "    songs.head(n=0).to_sql(name='songs', con=engine, if_exists='replace')\n",
    "except Exception as e:\n",
    "    print(f\"Failed to load schema to database: {e}\")\n",
    "else:\n",
    "    print(\"Schema loaded successfully\")"
   ]
  },
  {
   "cell_type": "code",
   "execution_count": 19,
   "metadata": {},
   "outputs": [
    {
     "name": "stdout",
     "output_type": "stream",
     "text": [
      "Schema loaded successfully\n"
     ]
    }
   ],
   "source": [
    "#sending the users schema to the database\n",
    "try:\n",
    "    users.head(n=0).to_sql(name='users', con=engine, if_exists='replace')\n",
    "except Exception as e:\n",
    "    print(f\"Failed to load schema to database: {e}\")\n",
    "else:\n",
    "    print(\"Schema loaded successfully\")"
   ]
  },
  {
   "cell_type": "code",
   "execution_count": 20,
   "metadata": {},
   "outputs": [
    {
     "name": "stdout",
     "output_type": "stream",
     "text": [
      "CPU times: user 7.99 s, sys: 199 ms, total: 8.19 s\n",
      "Wall time: 35.7 s\n",
      "Data loaded successfully\n"
     ]
    }
   ],
   "source": [
    "#loading the songs data\n",
    "try:\n",
    "    %time songs.to_sql(name='songs', con=engine, if_exists='replace')\n",
    "except Exception as e:\n",
    "    print(f\"Failed to load songs data to database: {e}\")\n",
    "else:\n",
    "    print(\"Data loaded successfully\")"
   ]
  },
  {
   "cell_type": "code",
   "execution_count": 21,
   "metadata": {},
   "outputs": [
    {
     "name": "stdout",
     "output_type": "stream",
     "text": [
      "CPU times: user 1.66 s, sys: 40.9 ms, total: 1.7 s\n",
      "Wall time: 14.5 s\n",
      "Data loaded successfully\n"
     ]
    }
   ],
   "source": [
    "#loading the users data\n",
    "try:\n",
    "    %time users.to_sql(name='users', con=engine, if_exists='replace')\n",
    "except Exception as e:\n",
    "    print(f\"Failed to load user data to database: {e}\")\n",
    "else:\n",
    "    print(\"Data loaded successfully\")"
   ]
  },
  {
   "cell_type": "code",
   "execution_count": null,
   "metadata": {},
   "outputs": [],
   "source": []
  }
 ],
 "metadata": {
  "kernelspec": {
   "display_name": "venv",
   "language": "python",
   "name": "python3"
  },
  "language_info": {
   "codemirror_mode": {
    "name": "ipython",
    "version": 3
   },
   "file_extension": ".py",
   "mimetype": "text/x-python",
   "name": "python",
   "nbconvert_exporter": "python",
   "pygments_lexer": "ipython3",
   "version": "3.10.12"
  }
 },
 "nbformat": 4,
 "nbformat_minor": 2
}
