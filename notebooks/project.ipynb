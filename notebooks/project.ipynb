{
 "cells": [
  {
   "cell_type": "code",
   "execution_count": 1,
   "metadata": {},
   "outputs": [],
   "source": [
    "import pandas as pd"
   ]
  },
  {
   "cell_type": "code",
   "execution_count": 3,
   "metadata": {},
   "outputs": [],
   "source": [
    "df1 = pd.read_csv('data/songs/songs.csv')\n",
    "df2 = pd.read_csv('data/users/users.csv')\n",
    "df3 = pd.read_csv('data/streams/streams1.csv')"
   ]
  },
  {
   "cell_type": "code",
   "execution_count": 4,
   "metadata": {},
   "outputs": [],
   "source": [
    "intermediate_df = pd.merge(df1, df3, on='track_id', how='inner')"
   ]
  },
  {
   "cell_type": "code",
   "execution_count": 5,
   "metadata": {},
   "outputs": [],
   "source": [
    "if 'user_id' in intermediate_df.columns:\n",
    "    merged_df = pd.merge(intermediate_df, df2, on='user_id', how='inner')\n",
    "else:\n",
    "            # If user_id is not in intermediate_df, we need to use a different approach\n",
    "            # Assuming s3_df contains user_id for joins\n",
    "    merged_df = pd.merge(df2, intermediate_df, left_on='user_id', right_on='user_id', how='inner')\n",
    "        "
   ]
  },
  {
   "cell_type": "code",
   "execution_count": 7,
   "metadata": {},
   "outputs": [
    {
     "name": "stdout",
     "output_type": "stream",
     "text": [
      "   id                track_id               artists  \\\n",
      "0  15  1KHdq8NK9QxnGjdXb55NiG           Landon Pigg   \n",
      "1  16  6xKeQgzfjixSUld14qUezm  Andrew Foy;Renee Foy   \n",
      "2  26  5IfCZDRXZrqZSm8AwE44PG            Jason Mraz   \n",
      "3  72  3Et4LKZLnXygPYfNdeB3D3          Andrew Belle   \n",
      "4  82  3bHhUEOTIbezeZ856R0BX5          Eddie Vedder   \n",
      "\n",
      "                                     album_name  \\\n",
      "0                             The Boy Who Never   \n",
      "1                         ily (i love you baby)   \n",
      "2                         Holly Jolly Christmas   \n",
      "3                                     Dive Deep   \n",
      "4  Into The Wild (Music For The Motion Picture)   \n",
      "\n",
      "                         track_name  popularity  duration_ms  explicit  \\\n",
      "0  Falling in Love at a Coffee Shop          58       244986     False   \n",
      "1             ily (i love you baby)          56       129750     False   \n",
      "2                 Winter Wonderland           0       131760     False   \n",
      "3                When the End Comes          57       354400     False   \n",
      "4                           Society          68       236306     False   \n",
      "\n",
      "   danceability  energy  ...  valence    tempo  time_signature  track_genre  \\\n",
      "0         0.489   0.561  ...    0.238   83.457               3     acoustic   \n",
      "1         0.706   0.112  ...    0.414  110.154               4     acoustic   \n",
      "2         0.620   0.309  ...    0.664  145.363               4     acoustic   \n",
      "3         0.541   0.575  ...    0.428   91.980               4     acoustic   \n",
      "4         0.561   0.327  ...    0.298  161.858               4     acoustic   \n",
      "\n",
      "   user_id          listen_time          user_name  user_age   user_country  \\\n",
      "0    37472  2024-06-25 09:54:25   Stanley Williams        64  United States   \n",
      "1    46883  2024-06-25 06:59:42      Zachary Smith        68  United States   \n",
      "2     9064  2024-06-25 09:35:48        Jason Brown        37    New Zealand   \n",
      "3    41581  2024-06-25 16:38:51  Lindsay Rodriguez        33  United States   \n",
      "4    10336  2024-06-25 17:13:38     Samuel Richard        30  United States   \n",
      "\n",
      "   created_at  \n",
      "0  2024-03-28  \n",
      "1  2024-05-16  \n",
      "2  2024-08-20  \n",
      "3  2024-05-05  \n",
      "4  2024-06-30  \n",
      "\n",
      "[5 rows x 27 columns]\n"
     ]
    }
   ],
   "source": [
    "print(pd.DataFrame(merged_df).head())"
   ]
  },
  {
   "cell_type": "code",
   "execution_count": 8,
   "metadata": {},
   "outputs": [
    {
     "data": {
      "text/plain": [
       "Index(['id', 'track_id', 'artists', 'album_name', 'track_name', 'popularity',\n",
       "       'duration_ms', 'explicit', 'danceability', 'energy', 'key', 'loudness',\n",
       "       'mode', 'speechiness', 'acousticness', 'instrumentalness', 'liveness',\n",
       "       'valence', 'tempo', 'time_signature', 'track_genre', 'user_id',\n",
       "       'listen_time', 'user_name', 'user_age', 'user_country', 'created_at'],\n",
       "      dtype='object')"
      ]
     },
     "execution_count": 8,
     "metadata": {},
     "output_type": "execute_result"
    }
   ],
   "source": [
    "merged_df.columns"
   ]
  },
  {
   "cell_type": "code",
   "execution_count": 10,
   "metadata": {},
   "outputs": [],
   "source": [
    "merged_df.to_csv('data/merged.csv', index=False)"
   ]
  },
  {
   "cell_type": "code",
   "execution_count": null,
   "metadata": {},
   "outputs": [],
   "source": []
  }
 ],
 "metadata": {
  "kernelspec": {
   "display_name": "venv",
   "language": "python",
   "name": "python3"
  },
  "language_info": {
   "codemirror_mode": {
    "name": "ipython",
    "version": 3
   },
   "file_extension": ".py",
   "mimetype": "text/x-python",
   "name": "python",
   "nbconvert_exporter": "python",
   "pygments_lexer": "ipython3",
   "version": "3.10.12"
  }
 },
 "nbformat": 4,
 "nbformat_minor": 2
}
