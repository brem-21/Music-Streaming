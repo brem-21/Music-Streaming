{
 "cells": [
  {
   "cell_type": "code",
   "execution_count": 1,
   "metadata": {},
   "outputs": [],
   "source": [
    "#import libraries\n",
    "import os\n",
    "import boto3\n",
    "import pandas as pd\n",
    "from dotenv import load_dotenv"
   ]
  },
  {
   "cell_type": "code",
   "execution_count": 2,
   "metadata": {},
   "outputs": [],
   "source": [
    "# Initialize s3 client\n",
    "s3 = boto3.client('s3')"
   ]
  },
  {
   "cell_type": "code",
   "execution_count": 3,
   "metadata": {},
   "outputs": [
    {
     "data": {
      "text/plain": [
       "True"
      ]
     },
     "execution_count": 3,
     "metadata": {},
     "output_type": "execute_result"
    }
   ],
   "source": [
    "# Load environment variables from .env file\n",
    "load_dotenv()"
   ]
  },
  {
   "cell_type": "code",
   "execution_count": 4,
   "metadata": {},
   "outputs": [],
   "source": [
    "#Get environment variables from .env file\n",
    "bucket_name = os.getenv(\"AWS_BUCKET_NAME\")\n",
    "local_folder = os.getenv(\"LOCAL_FOLDER_PATH\")"
   ]
  },
  {
   "cell_type": "code",
   "execution_count": 5,
   "metadata": {},
   "outputs": [
    {
     "name": "stdout",
     "output_type": "stream",
     "text": [
      "<class 'pandas.core.frame.DataFrame'>\n",
      "RangeIndex: 11346 entries, 0 to 11345\n",
      "Data columns (total 3 columns):\n",
      " #   Column       Non-Null Count  Dtype \n",
      "---  ------       --------------  ----- \n",
      " 0   user_id      11346 non-null  int64 \n",
      " 1   track_id     11346 non-null  object\n",
      " 2   listen_time  11346 non-null  object\n",
      "dtypes: int64(1), object(2)\n",
      "memory usage: 266.0+ KB\n"
     ]
    }
   ],
   "source": [
    "# Loading data from file path and printing the info about the data\n",
    "stream1 = pd.read_csv('data/streams/streams1.csv')\n",
    "stream1.info()"
   ]
  },
  {
   "cell_type": "code",
   "execution_count": 13,
   "metadata": {},
   "outputs": [
    {
     "name": "stdout",
     "output_type": "stream",
     "text": [
      "CREATE TABLE \"stream1\" (\n",
      "\"user_id\" INTEGER,\n",
      "  \"track_id\" TEXT,\n",
      "  \"listen_time\" TEXT\n",
      ")\n"
     ]
    }
   ],
   "source": [
    "print(pd.io.sql.get_schema(stream1, name='stream1')) # getting the schema of the stream data"
   ]
  },
  {
   "cell_type": "code",
   "execution_count": 6,
   "metadata": {},
   "outputs": [
    {
     "name": "stdout",
     "output_type": "stream",
     "text": [
      "<class 'pandas.core.frame.DataFrame'>\n",
      "RangeIndex: 11346 entries, 0 to 11345\n",
      "Data columns (total 3 columns):\n",
      " #   Column       Non-Null Count  Dtype \n",
      "---  ------       --------------  ----- \n",
      " 0   user_id      11346 non-null  int64 \n",
      " 1   track_id     11346 non-null  object\n",
      " 2   listen_time  11346 non-null  object\n",
      "dtypes: int64(1), object(2)\n",
      "memory usage: 266.0+ KB\n"
     ]
    }
   ],
   "source": [
    "# Loading data from file path and printing the info about the data\n",
    "stream2= pd.read_csv('data/streams/streams2.csv')\n",
    "stream2.info()"
   ]
  },
  {
   "cell_type": "code",
   "execution_count": 7,
   "metadata": {},
   "outputs": [
    {
     "data": {
      "text/plain": [
       "user_id        0\n",
       "track_id       0\n",
       "listen_time    0\n",
       "dtype: int64"
      ]
     },
     "execution_count": 7,
     "metadata": {},
     "output_type": "execute_result"
    }
   ],
   "source": [
    "#Checking for missing values in stream1 data\n",
    "stream1.isnull().sum()"
   ]
  },
  {
   "cell_type": "code",
   "execution_count": 8,
   "metadata": {},
   "outputs": [
    {
     "data": {
      "text/plain": [
       "user_id        0\n",
       "track_id       0\n",
       "listen_time    0\n",
       "dtype: int64"
      ]
     },
     "execution_count": 8,
     "metadata": {},
     "output_type": "execute_result"
    }
   ],
   "source": [
    "#Checking for missing values in stream2 data\n",
    "stream2.isnull().sum()"
   ]
  },
  {
   "cell_type": "code",
   "execution_count": 9,
   "metadata": {},
   "outputs": [
    {
     "name": "stdout",
     "output_type": "stream",
     "text": [
      "<class 'pandas.core.frame.DataFrame'>\n",
      "RangeIndex: 11346 entries, 0 to 11345\n",
      "Data columns (total 3 columns):\n",
      " #   Column       Non-Null Count  Dtype \n",
      "---  ------       --------------  ----- \n",
      " 0   user_id      11346 non-null  int64 \n",
      " 1   track_id     11346 non-null  object\n",
      " 2   listen_time  11346 non-null  object\n",
      "dtypes: int64(1), object(2)\n",
      "memory usage: 266.0+ KB\n"
     ]
    }
   ],
   "source": [
    "# Loading data from file path and printing the info about the data\n",
    "stream3 = pd.read_csv('data/streams/streams3.csv')\n",
    "stream3.info()"
   ]
  },
  {
   "cell_type": "code",
   "execution_count": 10,
   "metadata": {},
   "outputs": [
    {
     "data": {
      "text/plain": [
       "user_id        0\n",
       "track_id       0\n",
       "listen_time    0\n",
       "dtype: int64"
      ]
     },
     "execution_count": 10,
     "metadata": {},
     "output_type": "execute_result"
    }
   ],
   "source": [
    "#Checking for missing values in stream3 data\n",
    "stream3.isnull().sum()"
   ]
  },
  {
   "cell_type": "code",
   "execution_count": 11,
   "metadata": {},
   "outputs": [],
   "source": [
    "# List all files in the folder (non-recursive)\n",
    "files = os.listdir(local_folder)"
   ]
  },
  {
   "cell_type": "code",
   "execution_count": 12,
   "metadata": {},
   "outputs": [
    {
     "name": "stdout",
     "output_type": "stream",
     "text": [
      "Uploaded streams2.csv to s3://phase2etl/streams2.csv\n",
      "Uploaded streams3.csv to s3://phase2etl/streams3.csv\n",
      "Uploaded streams1.csv to s3://phase2etl/streams1.csv\n",
      "Folder upload process completed!\n"
     ]
    }
   ],
   "source": [
    "# Upload each file\n",
    "for file in files:\n",
    "    local_file_path = os.path.join(local_folder, file)\n",
    "\n",
    "    # Ensure it's a file (not a subdirectory)\n",
    "    if os.path.isfile(local_file_path):\n",
    "        try:\n",
    "            s3.upload_file(local_file_path, bucket_name, file)\n",
    "            print(f\"Uploaded {file} to s3://{bucket_name}/{file}\")\n",
    "        except Exception as e:\n",
    "            print(f\"Failed to upload {file}: {e}\")\n",
    "\n",
    "print(\"Folder upload process completed!\")"
   ]
  },
  {
   "cell_type": "code",
   "execution_count": null,
   "metadata": {},
   "outputs": [],
   "source": []
  }
 ],
 "metadata": {
  "kernelspec": {
   "display_name": "venv",
   "language": "python",
   "name": "python3"
  },
  "language_info": {
   "codemirror_mode": {
    "name": "ipython",
    "version": 3
   },
   "file_extension": ".py",
   "mimetype": "text/x-python",
   "name": "python",
   "nbconvert_exporter": "python",
   "pygments_lexer": "ipython3",
   "version": "3.10.12"
  }
 },
 "nbformat": 4,
 "nbformat_minor": 2
}
